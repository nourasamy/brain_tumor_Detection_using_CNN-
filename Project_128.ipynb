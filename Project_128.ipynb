{
 "cells": [
  {
   "cell_type": "code",
   "execution_count": 144,
   "metadata": {},
   "outputs": [],
   "source": [
    "from keras.models import Sequential\n",
    "from keras.layers import Convolution2D\n",
    "from keras.layers import MaxPooling2D\n",
    "from keras.layers import Flatten\n",
    "from keras.layers import Dropout\n",
    "\n",
    "from keras.layers import Dense\n",
    "from keras.preprocessing.image import ImageDataGenerator\n",
    "from numpy.random import seed\n",
    "seed(101)\n",
    "from tensorflow.keras.optimizers import Adam\n",
    "\n",
    "import tensorflow  as tf\n",
    "from keras.layers import BatchNormalization\n",
    "tf.random.set_seed(101)"
   ]
  },
  {
   "cell_type": "code",
   "execution_count": 84,
   "metadata": {},
   "outputs": [],
   "source": [
    "from sklearn.model_selection import train_test_split\n",
    "import os\n",
    "import numpy as np\n",
    "import cv2\n",
    "import pandas as pd\n",
    "from keras.layers import LeakyReLU\n"
   ]
  },
  {
   "cell_type": "code",
   "execution_count": 236,
   "metadata": {},
   "outputs": [],
   "source": [
    "CNN_1=Sequential()"
   ]
  },
  {
   "cell_type": "code",
   "execution_count": 237,
   "metadata": {},
   "outputs": [],
   "source": [
    "CNN_1.add(Convolution2D(64,9, input_shape=(128, 128, 3), activation='relu'))\n",
    "\n",
    "CNN_1.add(MaxPooling2D(pool_size=(2, 2)))\n",
    "#CNN_1.add(Dropout(0.25))\n",
    "#CNN_1.add(BatchNormalization())"
   ]
  },
  {
   "cell_type": "code",
   "execution_count": 238,
   "metadata": {},
   "outputs": [],
   "source": [
    "CNN_1.add(Convolution2D(32,9, activation='relu'))\n",
    "CNN_1.add(MaxPooling2D(pool_size=(2, 2)))\n",
    "#CNN_1.add(Dropout(0.25))\n",
    "#CNN_1.add(BatchNormalization())"
   ]
  },
  {
   "cell_type": "code",
   "execution_count": 239,
   "metadata": {},
   "outputs": [],
   "source": [
    "CNN_1.add(Convolution2D(16, (2, 2), activation='relu'))\n",
    "CNN_1.add(MaxPooling2D(pool_size=(2, 2)))\n",
    "#CNN_1.add(Dropout(0.25))\n"
   ]
  },
  {
   "cell_type": "code",
   "execution_count": 240,
   "metadata": {},
   "outputs": [],
   "source": [
    "CNN_1.add(Flatten())\n"
   ]
  },
  {
   "cell_type": "code",
   "execution_count": 241,
   "metadata": {},
   "outputs": [],
   "source": [
    "CNN_1.add(Dense(units=256, activation='relu'))\n",
    "CNN_1.add(Dense(units=128, activation='relu'))\n",
    "#CNN_1.add(Dropout(0.25))\n",
    "#CNN_1.add(BatchNormalization())\n",
    "\n",
    "CNN_1.add(Dense(units=1, activation='sigmoid'))\n"
   ]
  },
  {
   "cell_type": "code",
   "execution_count": 242,
   "metadata": {},
   "outputs": [],
   "source": [
    "CNN_1.compile(Adam(lr=0.001) , loss='binary_crossentropy', metrics=['accuracy'])\n"
   ]
  },
  {
   "cell_type": "code",
   "execution_count": 243,
   "metadata": {},
   "outputs": [],
   "source": [
    "train_datagen = ImageDataGenerator(rescale=1. / 255,\n",
    "                                   shear_range=0.2,\n",
    "                                   zoom_range=0.2,\n",
    "                                   horizontal_flip=True\n",
    "                                  )\n",
    "\n",
    "test_datagen = ImageDataGenerator(rescale=1. / 255,\n",
    "                                  shear_range=0.2,\n",
    "                                   zoom_range=0.2,\n",
    "                                   horizontal_flip=True\n",
    "                                 )\n"
   ]
  },
  {
   "cell_type": "code",
   "execution_count": 244,
   "metadata": {},
   "outputs": [
    {
     "name": "stdout",
     "output_type": "stream",
     "text": [
      "Found 182 images belonging to 2 classes.\n",
      "Found 71 images belonging to 2 classes.\n"
     ]
    }
   ],
   "source": [
    "training_set = train_datagen.flow_from_directory(r'C:\\\\Users\\\\mhmdh\\\\Desktop\\\\brain_tumor_dataset1\\\\training_set',\n",
    "                                                 target_size=(128, 128),\n",
    "                                                 batch_size=32,\n",
    "                                                 class_mode='binary')\n",
    "\n",
    "test_set = test_datagen.flow_from_directory(r'C:\\\\Users\\\\mhmdh\\\\Desktop\\\\brain_tumor_dataset1\\\\test_set',\n",
    "                                            target_size=(128, 128),\n",
    "                                            batch_size=32,\n",
    "                                           class_mode='binary')\n",
    "\n",
    "\n"
   ]
  },
  {
   "cell_type": "code",
   "execution_count": 245,
   "metadata": {
    "scrolled": true
   },
   "outputs": [
    {
     "name": "stdout",
     "output_type": "stream",
     "text": [
      "Epoch 1/100\n",
      "6/6 [==============================] - 7s 1s/step - loss: 0.7167 - accuracy: 0.5385 - val_loss: 0.6495 - val_accuracy: 0.6056\n",
      "Epoch 2/100\n",
      "6/6 [==============================] - 7s 1s/step - loss: 0.6532 - accuracy: 0.6154 - val_loss: 0.6402 - val_accuracy: 0.6901\n",
      "Epoch 3/100\n",
      "6/6 [==============================] - 7s 1s/step - loss: 0.6170 - accuracy: 0.6703 - val_loss: 0.5708 - val_accuracy: 0.7324\n",
      "Epoch 4/100\n",
      "6/6 [==============================] - 7s 1s/step - loss: 0.6597 - accuracy: 0.6374 - val_loss: 0.5657 - val_accuracy: 0.7746\n",
      "Epoch 5/100\n",
      "6/6 [==============================] - 7s 1s/step - loss: 0.6111 - accuracy: 0.6374 - val_loss: 0.6257 - val_accuracy: 0.8028\n",
      "Epoch 6/100\n",
      "6/6 [==============================] - 7s 1s/step - loss: 0.6237 - accuracy: 0.6703 - val_loss: 0.5697 - val_accuracy: 0.7606\n",
      "Epoch 7/100\n",
      "6/6 [==============================] - 7s 1s/step - loss: 0.5883 - accuracy: 0.6703 - val_loss: 0.5797 - val_accuracy: 0.7746\n",
      "Epoch 8/100\n",
      "6/6 [==============================] - 7s 1s/step - loss: 0.6085 - accuracy: 0.6484 - val_loss: 0.5572 - val_accuracy: 0.7746\n",
      "Epoch 9/100\n",
      "6/6 [==============================] - 7s 1s/step - loss: 0.5482 - accuracy: 0.7363 - val_loss: 0.5453 - val_accuracy: 0.7606\n",
      "Epoch 10/100\n",
      "6/6 [==============================] - 7s 1s/step - loss: 0.6245 - accuracy: 0.6758 - val_loss: 0.6059 - val_accuracy: 0.7324\n",
      "Epoch 11/100\n",
      "6/6 [==============================] - 6s 1s/step - loss: 0.5578 - accuracy: 0.7527 - val_loss: 0.5154 - val_accuracy: 0.7887\n",
      "Epoch 12/100\n",
      "6/6 [==============================] - 7s 1s/step - loss: 0.5961 - accuracy: 0.6923 - val_loss: 0.5359 - val_accuracy: 0.7887\n",
      "Epoch 13/100\n",
      "6/6 [==============================] - 7s 1s/step - loss: 0.5614 - accuracy: 0.6868 - val_loss: 0.5528 - val_accuracy: 0.7606\n",
      "Epoch 14/100\n",
      "6/6 [==============================] - 7s 1s/step - loss: 0.5575 - accuracy: 0.7363 - val_loss: 0.5994 - val_accuracy: 0.6479\n",
      "Epoch 15/100\n",
      "6/6 [==============================] - 7s 1s/step - loss: 0.5693 - accuracy: 0.6978 - val_loss: 0.6061 - val_accuracy: 0.7324\n",
      "Epoch 16/100\n",
      "6/6 [==============================] - 7s 1s/step - loss: 0.5728 - accuracy: 0.6868 - val_loss: 0.5407 - val_accuracy: 0.7746\n",
      "Epoch 17/100\n",
      "6/6 [==============================] - 7s 1s/step - loss: 0.5783 - accuracy: 0.7198 - val_loss: 0.6054 - val_accuracy: 0.6761\n",
      "Epoch 18/100\n",
      "6/6 [==============================] - 7s 1s/step - loss: 0.4926 - accuracy: 0.7857 - val_loss: 0.5890 - val_accuracy: 0.7183\n",
      "Epoch 19/100\n",
      "6/6 [==============================] - 8s 1s/step - loss: 0.4930 - accuracy: 0.7418 - val_loss: 0.6329 - val_accuracy: 0.6620\n",
      "Epoch 20/100\n",
      "6/6 [==============================] - 8s 1s/step - loss: 0.4816 - accuracy: 0.7473 - val_loss: 0.6710 - val_accuracy: 0.5915\n",
      "Epoch 21/100\n",
      "6/6 [==============================] - 7s 1s/step - loss: 0.4642 - accuracy: 0.8187 - val_loss: 0.8254 - val_accuracy: 0.5493\n",
      "Epoch 22/100\n",
      "6/6 [==============================] - 7s 1s/step - loss: 0.4592 - accuracy: 0.7747 - val_loss: 0.6884 - val_accuracy: 0.7042\n",
      "Epoch 23/100\n",
      "6/6 [==============================] - 7s 1s/step - loss: 0.4035 - accuracy: 0.8352 - val_loss: 0.5620 - val_accuracy: 0.7324\n",
      "Epoch 24/100\n",
      "6/6 [==============================] - 7s 1s/step - loss: 0.4247 - accuracy: 0.8352 - val_loss: 0.6261 - val_accuracy: 0.6761\n",
      "Epoch 25/100\n",
      "6/6 [==============================] - 7s 1s/step - loss: 0.3987 - accuracy: 0.8352 - val_loss: 0.5995 - val_accuracy: 0.7042\n",
      "Epoch 26/100\n",
      "6/6 [==============================] - 7s 1s/step - loss: 0.4146 - accuracy: 0.8132 - val_loss: 0.6465 - val_accuracy: 0.6901\n",
      "Epoch 27/100\n",
      "6/6 [==============================] - 7s 1s/step - loss: 0.3641 - accuracy: 0.8077 - val_loss: 0.6841 - val_accuracy: 0.6479\n",
      "Epoch 28/100\n",
      "6/6 [==============================] - 7s 1s/step - loss: 0.3695 - accuracy: 0.8242 - val_loss: 0.7336 - val_accuracy: 0.7183\n",
      "Epoch 29/100\n",
      "6/6 [==============================] - 7s 1s/step - loss: 0.3719 - accuracy: 0.8407 - val_loss: 0.6103 - val_accuracy: 0.7042\n",
      "Epoch 30/100\n",
      "6/6 [==============================] - 7s 1s/step - loss: 0.3902 - accuracy: 0.8462 - val_loss: 0.7891 - val_accuracy: 0.6197\n",
      "Epoch 31/100\n",
      "6/6 [==============================] - 6s 1s/step - loss: 0.3121 - accuracy: 0.8736 - val_loss: 0.6762 - val_accuracy: 0.7042\n",
      "Epoch 32/100\n",
      "6/6 [==============================] - 7s 1s/step - loss: 0.2814 - accuracy: 0.8846 - val_loss: 0.5915 - val_accuracy: 0.7042\n",
      "Epoch 33/100\n",
      "6/6 [==============================] - 7s 1s/step - loss: 0.3579 - accuracy: 0.8681 - val_loss: 0.5754 - val_accuracy: 0.7183\n",
      "Epoch 34/100\n",
      "6/6 [==============================] - 7s 1s/step - loss: 0.4010 - accuracy: 0.8516 - val_loss: 0.8690 - val_accuracy: 0.6338\n",
      "Epoch 35/100\n",
      "6/6 [==============================] - 8s 1s/step - loss: 0.3482 - accuracy: 0.8571 - val_loss: 0.6779 - val_accuracy: 0.6901\n",
      "Epoch 36/100\n",
      "6/6 [==============================] - 7s 1s/step - loss: 0.3106 - accuracy: 0.8901 - val_loss: 0.7058 - val_accuracy: 0.7042\n",
      "Epoch 37/100\n",
      "6/6 [==============================] - 7s 1s/step - loss: 0.3121 - accuracy: 0.8681 - val_loss: 0.6910 - val_accuracy: 0.7465\n",
      "Epoch 38/100\n",
      "6/6 [==============================] - 7s 1s/step - loss: 0.3096 - accuracy: 0.8681 - val_loss: 0.7014 - val_accuracy: 0.7042\n",
      "Epoch 39/100\n",
      "6/6 [==============================] - 7s 1s/step - loss: 0.3084 - accuracy: 0.9066 - val_loss: 0.6370 - val_accuracy: 0.7183\n",
      "Epoch 40/100\n",
      "6/6 [==============================] - 7s 1s/step - loss: 0.2643 - accuracy: 0.9011 - val_loss: 0.8040 - val_accuracy: 0.6620\n",
      "Epoch 41/100\n",
      "6/6 [==============================] - 7s 1s/step - loss: 0.2682 - accuracy: 0.9121 - val_loss: 0.7059 - val_accuracy: 0.6761\n",
      "Epoch 42/100\n",
      "6/6 [==============================] - 8s 1s/step - loss: 0.2693 - accuracy: 0.8901 - val_loss: 0.6183 - val_accuracy: 0.7606\n",
      "Epoch 43/100\n",
      "6/6 [==============================] - 7s 1s/step - loss: 0.1983 - accuracy: 0.9176 - val_loss: 0.8222 - val_accuracy: 0.7042\n",
      "Epoch 44/100\n",
      "6/6 [==============================] - 7s 1s/step - loss: 0.1614 - accuracy: 0.9451 - val_loss: 0.9003 - val_accuracy: 0.7042\n",
      "Epoch 45/100\n",
      "6/6 [==============================] - 6s 1s/step - loss: 0.1849 - accuracy: 0.9176 - val_loss: 0.8255 - val_accuracy: 0.7324\n",
      "Epoch 46/100\n",
      "6/6 [==============================] - 6s 954ms/step - loss: 0.2734 - accuracy: 0.8846 - val_loss: 0.9466 - val_accuracy: 0.7183\n",
      "Epoch 47/100\n",
      "6/6 [==============================] - 6s 958ms/step - loss: 0.2635 - accuracy: 0.9066 - val_loss: 0.7540 - val_accuracy: 0.6901\n",
      "Epoch 48/100\n",
      "6/6 [==============================] - 6s 935ms/step - loss: 0.2134 - accuracy: 0.9341 - val_loss: 0.6344 - val_accuracy: 0.8028\n",
      "Epoch 49/100\n",
      "6/6 [==============================] - 6s 935ms/step - loss: 0.1760 - accuracy: 0.9505 - val_loss: 0.5517 - val_accuracy: 0.7465\n",
      "Epoch 50/100\n",
      "6/6 [==============================] - 5s 899ms/step - loss: 0.1591 - accuracy: 0.9505 - val_loss: 0.8906 - val_accuracy: 0.7324\n",
      "Epoch 51/100\n",
      "6/6 [==============================] - 6s 930ms/step - loss: 0.1306 - accuracy: 0.9451 - val_loss: 0.8619 - val_accuracy: 0.7183\n",
      "Epoch 52/100\n",
      "6/6 [==============================] - 6s 947ms/step - loss: 0.0951 - accuracy: 0.9615 - val_loss: 0.7263 - val_accuracy: 0.8028\n",
      "Epoch 53/100\n",
      "6/6 [==============================] - 6s 953ms/step - loss: 0.0855 - accuracy: 0.9670 - val_loss: 0.9016 - val_accuracy: 0.7324\n",
      "Epoch 54/100\n",
      "6/6 [==============================] - 6s 962ms/step - loss: 0.1078 - accuracy: 0.9615 - val_loss: 1.0103 - val_accuracy: 0.8169\n",
      "Epoch 55/100\n",
      "6/6 [==============================] - 6s 993ms/step - loss: 0.1444 - accuracy: 0.9396 - val_loss: 0.8274 - val_accuracy: 0.7324\n",
      "Epoch 56/100\n",
      "6/6 [==============================] - 6s 1s/step - loss: 0.1077 - accuracy: 0.9725 - val_loss: 1.0687 - val_accuracy: 0.7465\n",
      "Epoch 57/100\n",
      "6/6 [==============================] - 5s 903ms/step - loss: 0.1618 - accuracy: 0.9396 - val_loss: 0.6796 - val_accuracy: 0.8169\n",
      "Epoch 58/100\n",
      "6/6 [==============================] - 5s 895ms/step - loss: 0.0945 - accuracy: 0.9615 - val_loss: 1.2631 - val_accuracy: 0.7183\n",
      "Epoch 59/100\n",
      "6/6 [==============================] - 6s 921ms/step - loss: 0.1682 - accuracy: 0.9396 - val_loss: 1.0613 - val_accuracy: 0.7042\n"
     ]
    },
    {
     "name": "stdout",
     "output_type": "stream",
     "text": [
      "Epoch 60/100\n",
      "6/6 [==============================] - 6s 959ms/step - loss: 0.1893 - accuracy: 0.9176 - val_loss: 0.6949 - val_accuracy: 0.7746\n",
      "Epoch 61/100\n",
      "6/6 [==============================] - 6s 933ms/step - loss: 0.1835 - accuracy: 0.9396 - val_loss: 0.8879 - val_accuracy: 0.6901\n",
      "Epoch 62/100\n",
      "6/6 [==============================] - 6s 1s/step - loss: 0.0952 - accuracy: 0.9835 - val_loss: 0.7507 - val_accuracy: 0.7887\n",
      "Epoch 63/100\n",
      "6/6 [==============================] - 6s 944ms/step - loss: 0.0918 - accuracy: 0.9670 - val_loss: 1.0189 - val_accuracy: 0.7606\n",
      "Epoch 64/100\n",
      "6/6 [==============================] - 5s 902ms/step - loss: 0.0901 - accuracy: 0.9725 - val_loss: 0.8915 - val_accuracy: 0.8028\n",
      "Epoch 65/100\n",
      "6/6 [==============================] - 5s 906ms/step - loss: 0.0947 - accuracy: 0.9670 - val_loss: 1.0500 - val_accuracy: 0.7746\n",
      "Epoch 66/100\n",
      "6/6 [==============================] - 6s 985ms/step - loss: 0.0520 - accuracy: 0.9835 - val_loss: 1.1133 - val_accuracy: 0.7746\n",
      "Epoch 67/100\n",
      "6/6 [==============================] - 6s 925ms/step - loss: 0.0582 - accuracy: 0.9725 - val_loss: 1.0451 - val_accuracy: 0.7183\n",
      "Epoch 68/100\n",
      "6/6 [==============================] - 6s 919ms/step - loss: 0.0726 - accuracy: 0.9725 - val_loss: 0.8305 - val_accuracy: 0.7887\n",
      "Epoch 69/100\n",
      "6/6 [==============================] - 6s 924ms/step - loss: 0.0380 - accuracy: 0.9835 - val_loss: 1.3688 - val_accuracy: 0.7606\n",
      "Epoch 70/100\n",
      "6/6 [==============================] - 5s 914ms/step - loss: 0.0368 - accuracy: 0.9890 - val_loss: 1.3327 - val_accuracy: 0.7746\n",
      "Epoch 71/100\n",
      "6/6 [==============================] - 6s 986ms/step - loss: 0.0939 - accuracy: 0.9835 - val_loss: 1.2971 - val_accuracy: 0.7324\n",
      "Epoch 72/100\n",
      "6/6 [==============================] - 5s 900ms/step - loss: 0.0388 - accuracy: 0.9890 - val_loss: 0.7183 - val_accuracy: 0.8028\n",
      "Epoch 73/100\n",
      "6/6 [==============================] - 6s 918ms/step - loss: 0.0214 - accuracy: 0.9945 - val_loss: 1.0527 - val_accuracy: 0.7183\n",
      "Epoch 74/100\n",
      "6/6 [==============================] - 5s 899ms/step - loss: 0.0720 - accuracy: 0.9890 - val_loss: 0.9861 - val_accuracy: 0.8169\n",
      "Epoch 75/100\n",
      "6/6 [==============================] - 5s 895ms/step - loss: 0.0917 - accuracy: 0.9670 - val_loss: 0.9657 - val_accuracy: 0.7606\n",
      "Epoch 76/100\n",
      "6/6 [==============================] - 5s 909ms/step - loss: 0.0335 - accuracy: 0.9945 - val_loss: 0.8293 - val_accuracy: 0.8310\n",
      "Epoch 77/100\n",
      "6/6 [==============================] - 5s 902ms/step - loss: 0.0327 - accuracy: 0.9945 - val_loss: 0.7902 - val_accuracy: 0.8028\n",
      "Epoch 78/100\n",
      "6/6 [==============================] - 5s 895ms/step - loss: 0.0221 - accuracy: 0.9890 - val_loss: 1.3817 - val_accuracy: 0.7324\n",
      "Epoch 79/100\n",
      "6/6 [==============================] - 6s 933ms/step - loss: 0.0588 - accuracy: 0.9780 - val_loss: 0.9896 - val_accuracy: 0.8451\n",
      "Epoch 80/100\n",
      "6/6 [==============================] - 6s 928ms/step - loss: 0.0855 - accuracy: 0.9725 - val_loss: 0.7598 - val_accuracy: 0.8028\n",
      "Epoch 81/100\n",
      "6/6 [==============================] - 5s 913ms/step - loss: 0.0823 - accuracy: 0.9615 - val_loss: 1.2890 - val_accuracy: 0.8028\n",
      "Epoch 82/100\n",
      "6/6 [==============================] - 6s 1s/step - loss: 0.0485 - accuracy: 0.9780 - val_loss: 1.3597 - val_accuracy: 0.7606\n",
      "Epoch 83/100\n",
      "6/6 [==============================] - 6s 921ms/step - loss: 0.1289 - accuracy: 0.9615 - val_loss: 1.3423 - val_accuracy: 0.6620\n",
      "Epoch 84/100\n",
      "6/6 [==============================] - 5s 881ms/step - loss: 0.0622 - accuracy: 0.9780 - val_loss: 1.1775 - val_accuracy: 0.6620\n",
      "Epoch 85/100\n",
      "6/6 [==============================] - 6s 933ms/step - loss: 0.0710 - accuracy: 0.9835 - val_loss: 0.9381 - val_accuracy: 0.7887\n",
      "Epoch 86/100\n",
      "6/6 [==============================] - 6s 939ms/step - loss: 0.1145 - accuracy: 0.9505 - val_loss: 1.1057 - val_accuracy: 0.7465\n",
      "Epoch 87/100\n",
      "6/6 [==============================] - 5s 872ms/step - loss: 0.0788 - accuracy: 0.9780 - val_loss: 0.8043 - val_accuracy: 0.7887\n",
      "Epoch 88/100\n",
      "6/6 [==============================] - 5s 873ms/step - loss: 0.0796 - accuracy: 0.9890 - val_loss: 1.1559 - val_accuracy: 0.8028\n",
      "Epoch 89/100\n",
      "6/6 [==============================] - 5s 872ms/step - loss: 0.0563 - accuracy: 0.9725 - val_loss: 1.0733 - val_accuracy: 0.8028\n",
      "Epoch 90/100\n",
      "6/6 [==============================] - 5s 874ms/step - loss: 0.0399 - accuracy: 0.9780 - val_loss: 0.8724 - val_accuracy: 0.7746\n",
      "Epoch 91/100\n",
      "6/6 [==============================] - 5s 875ms/step - loss: 0.0627 - accuracy: 0.9780 - val_loss: 0.9208 - val_accuracy: 0.7746\n",
      "Epoch 92/100\n",
      "6/6 [==============================] - 5s 899ms/step - loss: 0.0186 - accuracy: 1.0000 - val_loss: 1.2041 - val_accuracy: 0.7746\n",
      "Epoch 93/100\n",
      "6/6 [==============================] - 5s 872ms/step - loss: 0.0212 - accuracy: 0.9945 - val_loss: 1.4041 - val_accuracy: 0.7606\n",
      "Epoch 94/100\n",
      "6/6 [==============================] - 5s 892ms/step - loss: 0.0287 - accuracy: 0.9945 - val_loss: 0.9614 - val_accuracy: 0.7746\n",
      "Epoch 95/100\n",
      "6/6 [==============================] - 5s 871ms/step - loss: 0.0669 - accuracy: 0.9945 - val_loss: 1.4800 - val_accuracy: 0.7606\n",
      "Epoch 96/100\n",
      "6/6 [==============================] - 5s 875ms/step - loss: 0.0121 - accuracy: 0.9945 - val_loss: 1.9611 - val_accuracy: 0.6901\n",
      "Epoch 97/100\n",
      "6/6 [==============================] - 5s 894ms/step - loss: 0.0432 - accuracy: 0.9835 - val_loss: 0.8677 - val_accuracy: 0.8028\n",
      "Epoch 98/100\n",
      "6/6 [==============================] - 6s 919ms/step - loss: 0.0464 - accuracy: 0.9835 - val_loss: 1.9484 - val_accuracy: 0.7042\n",
      "Epoch 99/100\n",
      "6/6 [==============================] - 5s 889ms/step - loss: 0.0595 - accuracy: 0.9725 - val_loss: 1.0805 - val_accuracy: 0.8028\n",
      "Epoch 100/100\n",
      "6/6 [==============================] - 5s 880ms/step - loss: 0.0444 - accuracy: 0.9835 - val_loss: 1.0445 - val_accuracy: 0.8169\n",
      "finish\n"
     ]
    }
   ],
   "source": [
    "CNN_1.fit_generator(training_set,\n",
    "                         epochs=100,\n",
    "                         validation_data=test_set,\n",
    "                        verbose=0\n",
    "                   )\n",
    "#CNN_1.save('tumormodel.h5');\n",
    "print(\"finish\")"
   ]
  },
  {
   "cell_type": "code",
   "execution_count": 249,
   "metadata": {},
   "outputs": [
    {
     "name": "stdout",
     "output_type": "stream",
     "text": [
      "6/6 [==============================] - 1s 203ms/step - loss: 0.0520 - accuracy: 0.9890\n",
      "\n",
      " Training accuracy: 0.9890109896659851\n",
      "3/3 [==============================] - 0s 100ms/step - loss: 0.7465 - accuracy: 0.8451\n",
      "\n",
      " Test accuracy: 0.8450704216957092\n"
     ]
    }
   ],
   "source": [
    "#Evaluate the model on training set\n",
    "score = CNN_1.evaluate(training_set, verbose=1)\n",
    "# Print training accuracy\n",
    "print('\\n', 'Training accuracy:', score[-1])\n",
    "#Evaluate the model on test set\n",
    "score = CNN_1.evaluate(test_set, verbose=1)\n",
    "# Print test accuracy\n",
    "print('\\n', 'Test accuracy:', score[-1])"
   ]
  },
  {
   "cell_type": "code",
   "execution_count": null,
   "metadata": {},
   "outputs": [],
   "source": []
  },
  {
   "cell_type": "code",
   "execution_count": null,
   "metadata": {},
   "outputs": [],
   "source": []
  },
  {
   "cell_type": "code",
   "execution_count": null,
   "metadata": {},
   "outputs": [],
   "source": []
  },
  {
   "cell_type": "code",
   "execution_count": null,
   "metadata": {},
   "outputs": [],
   "source": []
  },
  {
   "cell_type": "code",
   "execution_count": null,
   "metadata": {},
   "outputs": [],
   "source": []
  },
  {
   "cell_type": "code",
   "execution_count": null,
   "metadata": {},
   "outputs": [],
   "source": []
  },
  {
   "cell_type": "code",
   "execution_count": null,
   "metadata": {},
   "outputs": [],
   "source": []
  }
 ],
 "metadata": {
  "kernelspec": {
   "display_name": "Python 3",
   "language": "python",
   "name": "python3"
  },
  "language_info": {
   "codemirror_mode": {
    "name": "ipython",
    "version": 3
   },
   "file_extension": ".py",
   "mimetype": "text/x-python",
   "name": "python",
   "nbconvert_exporter": "python",
   "pygments_lexer": "ipython3",
   "version": "3.8.5"
  }
 },
 "nbformat": 4,
 "nbformat_minor": 2
}
